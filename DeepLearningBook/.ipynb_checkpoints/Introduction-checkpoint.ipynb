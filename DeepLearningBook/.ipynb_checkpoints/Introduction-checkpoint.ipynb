{
 "cells": [
  {
   "cell_type": "markdown",
   "metadata": {},
   "source": [
    "# Introduction"
   ]
  },
  {
   "cell_type": "markdown",
   "metadata": {},
   "source": [
    "It is a series of part by part understanding of Deep Learning applied with in python language.\n",
    ">The book followed to create this is **\"Deep Learning\"** by \n",
    "**\"Ian Goodfellow and Yoshua Bengio and Aaron Courville\"** you can read it here http://www.deeplearningbook.org/.\n",
    ">>I advise everyone to read given book along with following this tutorial."
   ]
  },
  {
   "cell_type": "markdown",
   "metadata": {},
   "source": [
    "We will go through basics to advance topics in following manner:\n",
    "\n",
    "**This includes following contents:**\n",
    "    1. Applied Mathematics and Machine Learning Basics\n",
    "       - Linear Algebra\n",
    "       - Probability and Information Theory\n",
    "       - Numerical Computations\n",
    "       - Machine Learning Basics\n",
    "    2. Modern Practical Deep Networks\n",
    "       - Deep Feedforward Networks\n",
    "       - Regularization for Deep Learning\n",
    "       - Optimization for Training Deep Models"
   ]
  },
  {
   "cell_type": "code",
   "execution_count": null,
   "metadata": {
    "collapsed": true
   },
   "outputs": [],
   "source": []
  }
 ],
 "metadata": {
  "kernelspec": {
   "display_name": "Python 3",
   "language": "python",
   "name": "python3"
  },
  "language_info": {
   "codemirror_mode": {
    "name": "ipython",
    "version": 3
   },
   "file_extension": ".py",
   "mimetype": "text/x-python",
   "name": "python",
   "nbconvert_exporter": "python",
   "pygments_lexer": "ipython3",
   "version": "3.6.1"
  }
 },
 "nbformat": 4,
 "nbformat_minor": 2
}
